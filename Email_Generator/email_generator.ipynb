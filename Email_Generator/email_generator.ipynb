{
 "cells": [
  {
   "cell_type": "code",
   "execution_count": 2,
   "metadata": {},
   "outputs": [
    {
     "name": "stdout",
     "output_type": "stream",
     "text": [
      "\u001b[?2026h\u001b[?25l\u001b[1Gpulling manifest ⠋ \u001b[K\u001b[?25h\u001b[?2026l\u001b[?2026h\u001b[?25l\u001b[1Gpulling manifest ⠙ \u001b[K\u001b[?25h\u001b[?2026l\u001b[?2026h\u001b[?25l\u001b[1Gpulling manifest ⠹ \u001b[K\u001b[?25h\u001b[?2026l\u001b[?2026h\u001b[?25l\u001b[1Gpulling manifest ⠸ \u001b[K\u001b[?25h\u001b[?2026l\u001b[?2026h\u001b[?25l\u001b[1Gpulling manifest \u001b[K\n",
      "pulling dde5aa3fc5ff... 100% ▕████████████████▏ 2.0 GB                         \u001b[K\n",
      "pulling 966de95ca8a6... 100% ▕████████████████▏ 1.4 KB                         \u001b[K\n",
      "pulling fcc5a6bec9da... 100% ▕████████████████▏ 7.7 KB                         \u001b[K\n",
      "pulling a70ff7e570d9... 100% ▕████████████████▏ 6.0 KB                         \u001b[K\n",
      "pulling 56bb8bd477a5... 100% ▕████████████████▏   96 B                         \u001b[K\n",
      "pulling 34bb5ab01051... 100% ▕████████████████▏  561 B                         \u001b[K\n",
      "verifying sha256 digest \u001b[K\n",
      "writing manifest \u001b[K\n",
      "success \u001b[K\u001b[?25h\u001b[?2026l\n"
     ]
    }
   ],
   "source": [
    "!ollama pull llama3.2\n",
    "\n",
    "from openai import OpenAI\n",
    "MODEL = \"llama3.2\"\n",
    "openai = OpenAI(base_url=\"http://localhost:11434/v1\", api_key=\"ollama\")\n"
   ]
  },
  {
   "cell_type": "code",
   "execution_count": 3,
   "metadata": {},
   "outputs": [
    {
     "name": "stdout",
     "output_type": "stream",
     "text": [
      "Subject: Update on My Education and Career Aspirations\n",
      "\n",
      "Dear [Recipient's Name],\n",
      "\n",
      "I hope this email finds you well. I wanted to reach out to share my recent achievements and update you on my career aspirations as an aspiring AI/ML engineer.\n",
      "\n",
      "As of recently completed my Master's degree in Computer Science, I am excited to embark on the next phase of my professional journey. Throughout my academic tenure at [University Name] in Lafayette, Louisiana, I gained a solid understanding of computer science fundamentals and expanded my expertise in AI/ML through various courses. Notably, I was able to explore machine learning concepts using Python, Go programming languages, and delve into deep learning techniques.\n",
      "\n",
      "In addition to the theoretical knowledge, I was also fortunate enough to engage in two significant projects during my tenure as a Research Assistant at [University Name]. First, I worked on developing an Automated Mobility Surface (AMS) prediction system, which aimed at improving traffic flow management. Furthermore, I contributed to a project utilizing Convolutional Neural Networks (CNNs) for traffic frame prediction. These experiences not only honed my technical skills but also instilled in me a deeper understanding of the interplay between infrastructure planning and machine learning.\n",
      "\n",
      "As part of these projects, I worked alongside an interdisciplinary group involving agriculture and traffic simulation system development. This exposure broadened my perspective on potential applications of AI/ML beyond traditional domains like computer vision or natural language processing.\n",
      "\n",
      "Currently, my interests are focusing on the ever-evolving field of Large Language Models (LLMs) and General Artificial Intelligence (Gen AI). I am highly intrigued by their potential to revolutionize communication, decision-making processes, and task automation across a wide array of industries. Equipped with these emerging technologies, I aspire to contribute meaningfully to driving innovation in critical sectors.\n",
      "\n",
      "In summary, my educational journey has culminated in securing a Master's degree, solidifying my technical foundation as an AI/ML engineer, and gaining invaluable experience through research assistant roles and collaborative projects. Aspiring to further explore the vast potential of LLMs and Gen AI, I look forward to staying updated on your work endeavors or reaching out for collaborative opportunities.\n",
      "\n",
      "Best regards,\n",
      "\n",
      "[Your Name]\n"
     ]
    }
   ],
   "source": [
    "# Step 1: Create your prompts\n",
    "\n",
    "system_prompt = \"You are an assistant. Based on the given contents you are responsible for generating an email. Consider yourself as a student while structuring the email.\"\n",
    "user_prompt = \"\"\"\n",
    "    Just completed my Masters in Computer Science. Aspiring AI/ML engineer. Knowledge of python, Go, machine learings. 2 years backend development experience. More than 1 year of research assistant experience in Unvierstyi of louisiana at Lafayette. Worked on AMS prediction, traafic frame prediction using CNN, worked on simulation systesm with agriculture and traffic. Currently learning LLMs and Gen AI.\n",
    "\"\"\"\n",
    "\n",
    "# Step 2: Make the messages list\n",
    "\n",
    "messages = [\n",
    "    {\"role\": \"system\", \"content\": system_prompt},\n",
    "        {\"role\": \"user\", \"content\": user_prompt}\n",
    "] # fill this in\n",
    "\n",
    "# Step 3: Call OpenAI\n",
    "\n",
    "response = openai.chat.completions.create(\n",
    "    model=MODEL, \n",
    "    messages = messages\n",
    ")\n",
    "\n",
    "# Step 4: print the result\n",
    "\n",
    "print(response.choices[0].message.content)"
   ]
  },
  {
   "cell_type": "code",
   "execution_count": null,
   "metadata": {},
   "outputs": [],
   "source": []
  },
  {
   "cell_type": "code",
   "execution_count": null,
   "metadata": {},
   "outputs": [],
   "source": []
  },
  {
   "cell_type": "code",
   "execution_count": null,
   "metadata": {},
   "outputs": [],
   "source": []
  }
 ],
 "metadata": {
  "kernelspec": {
   "display_name": "llms",
   "language": "python",
   "name": "python3"
  },
  "language_info": {
   "codemirror_mode": {
    "name": "ipython",
    "version": 3
   },
   "file_extension": ".py",
   "mimetype": "text/x-python",
   "name": "python",
   "nbconvert_exporter": "python",
   "pygments_lexer": "ipython3",
   "version": "3.11.12"
  }
 },
 "nbformat": 4,
 "nbformat_minor": 2
}
