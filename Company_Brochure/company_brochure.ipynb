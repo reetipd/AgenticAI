{
 "cells": [
  {
   "cell_type": "code",
   "execution_count": 1,
   "metadata": {},
   "outputs": [],
   "source": [
    "import os\n",
    "import requests\n",
    "import json\n",
    "from typing import List\n",
    "from dotenv import load_dotenv\n",
    "from bs4 import BeautifulSoup\n",
    "from IPython.display import Markdown, display, update_display\n",
    "from openai import OpenAI"
   ]
  },
  {
   "cell_type": "code",
   "execution_count": 2,
   "metadata": {},
   "outputs": [
    {
     "name": "stdout",
     "output_type": "stream",
     "text": [
      "\u001b[?2026h\u001b[?25l\u001b[1Gpulling manifest ⠋ \u001b[K\u001b[?25h\u001b[?2026l\u001b[?2026h\u001b[?25l\u001b[1Gpulling manifest ⠙ \u001b[K\u001b[?25h\u001b[?2026l\u001b[?2026h\u001b[?25l\u001b[1Gpulling manifest ⠹ \u001b[K\u001b[?25h\u001b[?2026l\u001b[?2026h\u001b[?25l\u001b[1Gpulling manifest ⠼ \u001b[K\u001b[?25h\u001b[?2026l\u001b[?2026h\u001b[?25l\u001b[1Gpulling manifest \u001b[K\n",
      "pulling dde5aa3fc5ff... 100% ▕████████████████▏ 2.0 GB                         \u001b[K\n",
      "pulling 966de95ca8a6... 100% ▕████████████████▏ 1.4 KB                         \u001b[K\n",
      "pulling fcc5a6bec9da... 100% ▕████████████████▏ 7.7 KB                         \u001b[K\n",
      "pulling a70ff7e570d9... 100% ▕████████████████▏ 6.0 KB                         \u001b[K\n",
      "pulling 56bb8bd477a5... 100% ▕████████████████▏   96 B                         \u001b[K\n",
      "pulling 34bb5ab01051... 100% ▕████████████████▏  561 B                         \u001b[K\n",
      "verifying sha256 digest \u001b[K\n",
      "writing manifest \u001b[K\n",
      "success \u001b[K\u001b[?25h\u001b[?2026l\n"
     ]
    }
   ],
   "source": [
    "!ollama pull llama3.2\n",
    "\n",
    "from openai import OpenAI\n",
    "MODEL = \"llama3.2\"\n",
    "openai = OpenAI(base_url=\"http://localhost:11434/v1\", api_key=\"ollama\")"
   ]
  },
  {
   "cell_type": "code",
   "execution_count": 3,
   "metadata": {},
   "outputs": [],
   "source": [
    "headers = {\n",
    " \"User-Agent\": \"Mozilla/5.0 (Windows NT 10.0; Win64; x64) AppleWebKit/537.36 (KHTML, like Gecko) Chrome/117.0.0.0 Safari/537.36\"\n",
    "}\n",
    "\n",
    "class Website:\n",
    "    \"\"\"\n",
    "    A utility class to represent a Website that we have scraped, now with links\n",
    "    \"\"\"\n",
    "\n",
    "    def __init__(self, url):\n",
    "        self.url = url\n",
    "        response = requests.get(url, headers=headers)\n",
    "        self.body = response.content\n",
    "        soup = BeautifulSoup(self.body, 'html.parser')\n",
    "        self.title = soup.title.string if soup.title else \"No title found\"\n",
    "        if soup.body:\n",
    "            for irrelevant in soup.body([\"script\", \"style\", \"img\", \"input\"]):\n",
    "                irrelevant.decompose()\n",
    "            self.text = soup.body.get_text(separator=\"\\n\", strip=True)\n",
    "        else:\n",
    "            self.text = \"\"\n",
    "        links = [link.get('href') for link in soup.find_all('a')]\n",
    "        self.links = [link for link in links if link]\n",
    "\n",
    "    def get_contents(self):\n",
    "        return f\"Webpage Title:\\n{self.title}\\nWebpage Contents:\\n{self.text}\\n\\n\""
   ]
  },
  {
   "cell_type": "code",
   "execution_count": 4,
   "metadata": {},
   "outputs": [
    {
     "data": {
      "text/plain": [
       "['/Trust-lgF5hKLTqw3U-Accessibility_statement.html',\n",
       " '/',\n",
       " '/RegistrationController?flow=sign_up_and_save&returnTo=%2F&fullscreen=true&flowOrigin=login&hideNavigation=true&isLithium=true',\n",
       " '/Hotels',\n",
       " '/Attractions',\n",
       " '/Restaurants',\n",
       " '/CheapFlightsHome',\n",
       " '/Rentals',\n",
       " '/TripBuilder',\n",
       " '/TravelersChoice-Beaches-cWorld-g1',\n",
       " '/TravelersChoice-Beaches-cEurope-g4',\n",
       " '/TravelersChoice-Beaches-cAsia-g2',\n",
       " '/TravelersChoice-Beaches-cSouthPacific-g8',\n",
       " '/TravelersChoice-Beaches-cCaribbean-g147237',\n",
       " '/AttractionProductReview-g189180-d25382579-The_Unvanquished_Tour_in_Porto_City_Center-Porto_Porto_District_Northern_Portugal.html',\n",
       " '/AttractionProductReview-g297701-d15142407-All_Inclusive_Ubud_Private_Tour-Ubud_Gianyar_Regency_Bali.html',\n",
       " '/AttractionProductReview-g188590-d17809082-All_Inclusive_Amsterdam_Canal_Cruise_with_Drinks_and_Dutch_Bites-Amsterdam_North_H.html',\n",
       " '/AttractionProductReview-g297390-d14080946-Small_Group_Explore_Angkor_Wat_Sunrise_Tour_with_Guide_from_Siem_Reap-Siem_Reap_Si.html',\n",
       " '/AttractionProductReview-g150807-d15665143-Chichen_Itza_Cenote_and_Valladolid_Tour-Cancun_Yucatan_Peninsula.html',\n",
       " '/AttractionProductReview-g187895-d16796242-The_Best_tour_in_Florence_Renaissance_Medici_Tales_guided_by_a_STORYTELLER-Florenc.html',\n",
       " '/AttractionProductReview-g294314-d23808248-Classic_Inca_Trail_Trek_4D_3N_to_Machu_Picchu_Group_Service-Cusco_Cusco_Region.html',\n",
       " '/AttractionProductReview-g274887-d11452776-Budapest_Danube_Cruise_with_Buffet_Dinner_Performances_and_Music-Budapest_Central_.html',\n",
       " '/AttractionProductReview-g293924-d17305820-Full_Day_Ninh_Binh_Highlights_Tour_from_Hanoi-Hanoi.html',\n",
       " '/AttractionProductReview-g189970-d13402990-Silfra_Snorkeling_Between_Tectonic_Plates_meet_on_location-Reykjavik_Capital_Regio.html',\n",
       " 'https://www.tripadvisor.com/Articles-ld2zsLXZQltU-Us_flower_festivals_spring.html',\n",
       " 'https://www.tripadvisor.com/Articles-ld2zsLXZQltU-Us_flower_festivals_spring.html',\n",
       " 'https://www.tripadvisor.com/Articles-lBi9Wp0jHw5o-Family_friendly_european_cities_for_spring_break.html',\n",
       " 'https://www.tripadvisor.com/Articles-lBi9Wp0jHw5o-Family_friendly_european_cities_for_spring_break.html',\n",
       " 'https://www.tripadvisor.com/Articles-lXyum7xL94Ms-Canada_national_parks.html',\n",
       " 'https://www.tripadvisor.com/Articles-lXyum7xL94Ms-Canada_national_parks.html',\n",
       " '/Tourism-g187791-Rome_Lazio-Vacations.html',\n",
       " '/Tourism-g187147-Paris_Ile_de_France-Vacations.html',\n",
       " '/Tourism-g45963-Las_Vegas_Nevada-Vacations.html',\n",
       " '/Tourism-g189970-Reykjavik_Capital_Region-Vacations.html',\n",
       " '/Tourism-g186338-London_England-Vacations.html',\n",
       " '/Tourism-g187895-Florence_Tuscany-Vacations.html',\n",
       " '/Tourism-g60763-New_York_City_New_York-Vacations.html',\n",
       " '/Tourism-g187497-Barcelona_Catalonia-Vacations.html',\n",
       " '/Tourism-g295424-Dubai_Emirate_of_Dubai-Vacations.html',\n",
       " '/Tourism-g255122-Queenstown_Otago_Region_South_Island-Vacations.html',\n",
       " 'https://wanderlab.travel',\n",
       " '/Articles-l2cB2pP2AiZc-Pet_friendly_travel.html',\n",
       " '/TravelersChoice',\n",
       " 'https://tripadvisor.mediaroom.com/us-about-us',\n",
       " 'https://tripadvisor.mediaroom.com/us-contact-us',\n",
       " 'https://tripadvisor.mediaroom.com/us-resources',\n",
       " 'https://careers.tripadvisor.com',\n",
       " 'http://ir.tripadvisor.com',\n",
       " '/Trust',\n",
       " 'https://tripadvisor.mediaroom.com/US-contact-us',\n",
       " 'Trust-lgF5hKLTqw3U-Accessibility_statement.html',\n",
       " '/UserReview',\n",
       " '/AddListing',\n",
       " '/MemberProfile',\n",
       " '/TravelersChoice',\n",
       " 'https://www.tripadvisorsupport.com/hc/en-us',\n",
       " '/Articles',\n",
       " '/Owners?m=58397',\n",
       " '/business/businessadvantage?args=-m57398',\n",
       " '/business/sponsored-placements?args=-m58399',\n",
       " '/MediaKit',\n",
       " '/developers',\n",
       " '/affiliates',\n",
       " '/ShowUrl-a_partnerKey.1-a_url.http%3A__2F____2F__itunes__2E__apple__2E__com__2F__us__2F__app__2F__tripadvisor__2F__id284876795__3F__mt%3D8__26__pt%3D14124__26__ct%3DBrand__5F__AppPage__5F__0__5F__63742-a_urlKey.f72bae0add77e606d.html',\n",
       " '/ShowUrl-a_partnerKey.1-a_url.https%3A__2F____2F__play__2E__google__2E__com__2F__store__2F__apps__2F__details__3F__id%3Dcom__2E__tripadvisor__2E__tripadvisor__26__hl%3Den__26__referrer%3Dutm__5F__download__5F__tracking%253DBrand__5F__AppPage__5F__0__5F__63742-a_urlKey.70bb05c81415ae292.html',\n",
       " 'https://www.thefork.com/',\n",
       " 'https://www.viator.com/',\n",
       " 'https://www.cruisecritic.com/',\n",
       " 'https://www.seatguru.com/',\n",
       " 'https://www.holidaylettings.co.uk/',\n",
       " 'https://tripadvisor.mediaroom.com/us-terms-of-use',\n",
       " 'https://tripadvisor.mediaroom.com/us-privacy-policy',\n",
       " '/SiteIndex',\n",
       " '/pages/service_en.html',\n",
       " 'https://tripadvisor.mediaroom.com/US-contact-us',\n",
       " '/ShowUrl-a_partnerKey.1-a_url.http%3A__2F____2F__www__2E__facebook__2E__com__2F__TripAdvisor-a_urlKey.15090f72418302936.html',\n",
       " '/ShowUrl-a_partnerKey.1-a_url.https%3A__2F____2F__twitter__2E__com__2F__TripAdvisor-a_urlKey.44b19b8408425e091.html',\n",
       " '/ShowUrl-a_partnerKey.1-a_url.https%3A__2F____2F__www__2E__pinterest__2E__com__2F__tripadvisor__2F__-a_urlKey.37f0c4f6234c37ed3.html',\n",
       " '/ShowUrl-a_partnerKey.1-a_url.https%3A__2F____2F__instagram__2E__com__2F__tripadvisor__2F__-a_urlKey.95e728d4c18d14f29.html',\n",
       " '/ShowUrl-a_partnerKey.1-a_url.https%3A__2F____2F__www__2E__youtube__2E__com__2F__TripAdvisor-a_urlKey.e62613873848f484d.html',\n",
       " '/ShowUrl-a_partnerKey.1-a_url.https%3A__2F____2F__www__2E__tiktok__2E__com__2F__%40tripadvisor-a_urlKey.5777c7492e159d99c.html']"
      ]
     },
     "execution_count": 4,
     "metadata": {},
     "output_type": "execute_result"
    }
   ],
   "source": [
    "site = Website(\"https://www.tripadvisor.com/\")\n",
    "site.links"
   ]
  },
  {
   "cell_type": "code",
   "execution_count": 5,
   "metadata": {},
   "outputs": [],
   "source": [
    "link_system_prompt = \"You are provided with a list of links found on a webpage. \\\n",
    "You are able to decide which of the links would be most relevant to include in a brochure about the company, \\\n",
    "such as links to an About page, or a Company page, or Careers/Jobs pages.\\n\"\n",
    "link_system_prompt += \"You should respond in JSON as in this example:\"\n",
    "link_system_prompt += \"\"\"\n",
    "{\n",
    "    \"links\": [\n",
    "        {\"type\": \"about page\", \"url\": \"https://full.url/goes/here/about\"},\n",
    "        {\"type\": \"careers page\": \"url\": \"https://another.full.url/careers\"}\n",
    "    ]\n",
    "}\n",
    "\"\"\""
   ]
  },
  {
   "cell_type": "code",
   "execution_count": 6,
   "metadata": {},
   "outputs": [
    {
     "name": "stdout",
     "output_type": "stream",
     "text": [
      "You are provided with a list of links found on a webpage. You are able to decide which of the links would be most relevant to include in a brochure about the company, such as links to an About page, or a Company page, or Careers/Jobs pages.\n",
      "You should respond in JSON as in this example:\n",
      "{\n",
      "    \"links\": [\n",
      "        {\"type\": \"about page\", \"url\": \"https://full.url/goes/here/about\"},\n",
      "        {\"type\": \"careers page\": \"url\": \"https://another.full.url/careers\"}\n",
      "    ]\n",
      "}\n",
      "\n"
     ]
    }
   ],
   "source": [
    "print(link_system_prompt)"
   ]
  },
  {
   "cell_type": "code",
   "execution_count": 7,
   "metadata": {},
   "outputs": [],
   "source": [
    "def get_links_user_prompt(website):\n",
    "    user_prompt = f\"Here is the list of links on the website of {website.url} - \"\n",
    "    user_prompt += \"please decide which of these are relevant web links for a brochure about the company, respond with the full https URL in JSON format. \\\n",
    "Do not include Terms of Service, Privacy, email links.\\n\"\n",
    "    user_prompt += \"Links (some might be relative links):\\n\"\n",
    "    user_prompt += \"\\n\".join(website.links)\n",
    "    return user_prompt"
   ]
  },
  {
   "cell_type": "code",
   "execution_count": 8,
   "metadata": {},
   "outputs": [
    {
     "name": "stdout",
     "output_type": "stream",
     "text": [
      "Here is the list of links on the website of https://www.tripadvisor.com/ - please decide which of these are relevant web links for a brochure about the company, respond with the full https URL in JSON format. Do not include Terms of Service, Privacy, email links.\n",
      "Links (some might be relative links):\n",
      "/Trust-lgF5hKLTqw3U-Accessibility_statement.html\n",
      "/\n",
      "/RegistrationController?flow=sign_up_and_save&returnTo=%2F&fullscreen=true&flowOrigin=login&hideNavigation=true&isLithium=true\n",
      "/Hotels\n",
      "/Attractions\n",
      "/Restaurants\n",
      "/CheapFlightsHome\n",
      "/Rentals\n",
      "/TripBuilder\n",
      "/TravelersChoice-Beaches-cWorld-g1\n",
      "/TravelersChoice-Beaches-cEurope-g4\n",
      "/TravelersChoice-Beaches-cAsia-g2\n",
      "/TravelersChoice-Beaches-cSouthPacific-g8\n",
      "/TravelersChoice-Beaches-cCaribbean-g147237\n",
      "/AttractionProductReview-g189180-d25382579-The_Unvanquished_Tour_in_Porto_City_Center-Porto_Porto_District_Northern_Portugal.html\n",
      "/AttractionProductReview-g297701-d15142407-All_Inclusive_Ubud_Private_Tour-Ubud_Gianyar_Regency_Bali.html\n",
      "/AttractionProductReview-g188590-d17809082-All_Inclusive_Amsterdam_Canal_Cruise_with_Drinks_and_Dutch_Bites-Amsterdam_North_H.html\n",
      "/AttractionProductReview-g297390-d14080946-Small_Group_Explore_Angkor_Wat_Sunrise_Tour_with_Guide_from_Siem_Reap-Siem_Reap_Si.html\n",
      "/AttractionProductReview-g150807-d15665143-Chichen_Itza_Cenote_and_Valladolid_Tour-Cancun_Yucatan_Peninsula.html\n",
      "/AttractionProductReview-g187895-d16796242-The_Best_tour_in_Florence_Renaissance_Medici_Tales_guided_by_a_STORYTELLER-Florenc.html\n",
      "/AttractionProductReview-g294314-d23808248-Classic_Inca_Trail_Trek_4D_3N_to_Machu_Picchu_Group_Service-Cusco_Cusco_Region.html\n",
      "/AttractionProductReview-g274887-d11452776-Budapest_Danube_Cruise_with_Buffet_Dinner_Performances_and_Music-Budapest_Central_.html\n",
      "/AttractionProductReview-g293924-d17305820-Full_Day_Ninh_Binh_Highlights_Tour_from_Hanoi-Hanoi.html\n",
      "/AttractionProductReview-g189970-d13402990-Silfra_Snorkeling_Between_Tectonic_Plates_meet_on_location-Reykjavik_Capital_Regio.html\n",
      "https://www.tripadvisor.com/Articles-ld2zsLXZQltU-Us_flower_festivals_spring.html\n",
      "https://www.tripadvisor.com/Articles-ld2zsLXZQltU-Us_flower_festivals_spring.html\n",
      "https://www.tripadvisor.com/Articles-lBi9Wp0jHw5o-Family_friendly_european_cities_for_spring_break.html\n",
      "https://www.tripadvisor.com/Articles-lBi9Wp0jHw5o-Family_friendly_european_cities_for_spring_break.html\n",
      "https://www.tripadvisor.com/Articles-lXyum7xL94Ms-Canada_national_parks.html\n",
      "https://www.tripadvisor.com/Articles-lXyum7xL94Ms-Canada_national_parks.html\n",
      "/Tourism-g187791-Rome_Lazio-Vacations.html\n",
      "/Tourism-g187147-Paris_Ile_de_France-Vacations.html\n",
      "/Tourism-g45963-Las_Vegas_Nevada-Vacations.html\n",
      "/Tourism-g189970-Reykjavik_Capital_Region-Vacations.html\n",
      "/Tourism-g186338-London_England-Vacations.html\n",
      "/Tourism-g187895-Florence_Tuscany-Vacations.html\n",
      "/Tourism-g60763-New_York_City_New_York-Vacations.html\n",
      "/Tourism-g187497-Barcelona_Catalonia-Vacations.html\n",
      "/Tourism-g295424-Dubai_Emirate_of_Dubai-Vacations.html\n",
      "/Tourism-g255122-Queenstown_Otago_Region_South_Island-Vacations.html\n",
      "https://wanderlab.travel\n",
      "/Articles-l2cB2pP2AiZc-Pet_friendly_travel.html\n",
      "/TravelersChoice\n",
      "https://tripadvisor.mediaroom.com/us-about-us\n",
      "https://tripadvisor.mediaroom.com/us-contact-us\n",
      "https://tripadvisor.mediaroom.com/us-resources\n",
      "https://careers.tripadvisor.com\n",
      "http://ir.tripadvisor.com\n",
      "/Trust\n",
      "https://tripadvisor.mediaroom.com/US-contact-us\n",
      "Trust-lgF5hKLTqw3U-Accessibility_statement.html\n",
      "/UserReview\n",
      "/AddListing\n",
      "/MemberProfile\n",
      "/TravelersChoice\n",
      "https://www.tripadvisorsupport.com/hc/en-us\n",
      "/Articles\n",
      "/Owners?m=58397\n",
      "/business/businessadvantage?args=-m57398\n",
      "/business/sponsored-placements?args=-m58399\n",
      "/MediaKit\n",
      "/developers\n",
      "/affiliates\n",
      "/ShowUrl-a_partnerKey.1-a_url.http%3A__2F____2F__itunes__2E__apple__2E__com__2F__us__2F__app__2F__tripadvisor__2F__id284876795__3F__mt%3D8__26__pt%3D14124__26__ct%3DBrand__5F__AppPage__5F__0__5F__63742-a_urlKey.f72bae0add77e606d.html\n",
      "/ShowUrl-a_partnerKey.1-a_url.https%3A__2F____2F__play__2E__google__2E__com__2F__store__2F__apps__2F__details__3F__id%3Dcom__2E__tripadvisor__2E__tripadvisor__26__hl%3Den__26__referrer%3Dutm__5F__download__5F__tracking%253DBrand__5F__AppPage__5F__0__5F__63742-a_urlKey.70bb05c81415ae292.html\n",
      "https://www.thefork.com/\n",
      "https://www.viator.com/\n",
      "https://www.cruisecritic.com/\n",
      "https://www.seatguru.com/\n",
      "https://www.holidaylettings.co.uk/\n",
      "https://tripadvisor.mediaroom.com/us-terms-of-use\n",
      "https://tripadvisor.mediaroom.com/us-privacy-policy\n",
      "/SiteIndex\n",
      "/pages/service_en.html\n",
      "https://tripadvisor.mediaroom.com/US-contact-us\n",
      "/ShowUrl-a_partnerKey.1-a_url.http%3A__2F____2F__www__2E__facebook__2E__com__2F__TripAdvisor-a_urlKey.15090f72418302936.html\n",
      "/ShowUrl-a_partnerKey.1-a_url.https%3A__2F____2F__twitter__2E__com__2F__TripAdvisor-a_urlKey.44b19b8408425e091.html\n",
      "/ShowUrl-a_partnerKey.1-a_url.https%3A__2F____2F__www__2E__pinterest__2E__com__2F__tripadvisor__2F__-a_urlKey.37f0c4f6234c37ed3.html\n",
      "/ShowUrl-a_partnerKey.1-a_url.https%3A__2F____2F__instagram__2E__com__2F__tripadvisor__2F__-a_urlKey.95e728d4c18d14f29.html\n",
      "/ShowUrl-a_partnerKey.1-a_url.https%3A__2F____2F__www__2E__youtube__2E__com__2F__TripAdvisor-a_urlKey.e62613873848f484d.html\n",
      "/ShowUrl-a_partnerKey.1-a_url.https%3A__2F____2F__www__2E__tiktok__2E__com__2F__%40tripadvisor-a_urlKey.5777c7492e159d99c.html\n"
     ]
    }
   ],
   "source": [
    "print(get_links_user_prompt(site))"
   ]
  },
  {
   "cell_type": "code",
   "execution_count": 9,
   "metadata": {},
   "outputs": [],
   "source": [
    "def get_links(url):\n",
    "    website = Website(url)\n",
    "    response = openai.chat.completions.create(\n",
    "        model=MODEL,\n",
    "        messages=[\n",
    "            {\"role\": \"system\", \"content\": link_system_prompt},\n",
    "            {\"role\": \"user\", \"content\": get_links_user_prompt(website)}\n",
    "      ],\n",
    "        response_format={\"type\": \"json_object\"}\n",
    "    )\n",
    "    result = response.choices[0].message.content\n",
    "    return json.loads(result)"
   ]
  },
  {
   "cell_type": "code",
   "execution_count": 10,
   "metadata": {},
   "outputs": [
    {
     "data": {
      "text/plain": [
       "{'links': [{'type': 'About us page',\n",
       "   'url': 'https://tripadvisor.mediaroom.com/us-about-us'},\n",
       "  {'type': 'Company Overview',\n",
       "   'url': 'https://tripadvisor.mediaroom.com/us-contact-us'},\n",
       "  {'type': 'Resources/FAQs',\n",
       "   'url': 'https://tripadvisor.mediaroom.com/us-resources'},\n",
       "  {'type': 'Careers page', 'url': 'https://careers.tripadvisor.com'}]}"
      ]
     },
     "execution_count": 10,
     "metadata": {},
     "output_type": "execute_result"
    }
   ],
   "source": [
    "get_links(\"https://www.tripadvisor.com/\")"
   ]
  },
  {
   "cell_type": "code",
   "execution_count": 11,
   "metadata": {},
   "outputs": [],
   "source": [
    "def get_all_details(url):\n",
    "    result = \"Landing page:\\n\"\n",
    "    result += Website(url).get_contents()\n",
    "    links = get_links(url)\n",
    "    print(\"Found links:\", links)\n",
    "    for link in links[\"links\"]:\n",
    "        result += f\"\\n\\n{link['type']}\\n\"\n",
    "        result += Website(link[\"url\"]).get_contents()\n",
    "    return result"
   ]
  },
  {
   "cell_type": "code",
   "execution_count": 45,
   "metadata": {},
   "outputs": [
    {
     "name": "stdout",
     "output_type": "stream",
     "text": [
      "Found links: {'links': [{'type': 'About page', 'url': 'https://tripadvisor.mediaroom.com/us-about-us'}, {'type': 'Contact us', 'url': 'https://tripadvisor.mediaroom.com/us-contact-us'}, {'type': 'Resource page', 'url': 'https://tripadvisor.mediaroom.com/us-resources'}, {'type': 'Careers/jobs', 'url': 'https://careers.tripadvisor.com'}, {'type': 'Investor relations/IR', 'url': 'http://ir.tripadvisor.com'}]}\n"
     ]
    }
   ],
   "source": [
    "print(get_all_details(\"https://www.tripadvisor.com/\"))"
   ]
  },
  {
   "cell_type": "code",
   "execution_count": 12,
   "metadata": {},
   "outputs": [],
   "source": [
    "system_prompt = \"You are an assistant that analyzes the contents of several relevant pages from a company website \\\n",
    "and creates a short brochure about the company for prospective customers, investors and recruits. Respond in markdown.\\\n",
    "Include details of company culture, customers and careers/jobs if you have the information.\""
   ]
  },
  {
   "cell_type": "code",
   "execution_count": 13,
   "metadata": {},
   "outputs": [],
   "source": [
    "def get_brochure_user_prompt(company_name, url):\n",
    "    user_prompt = f\"You are looking at a company called: {company_name}\\n\"\n",
    "    user_prompt += f\"Here are the contents of its landing page and other relevant pages; use this information to build a short brochure of the company in markdown.\\n\"\n",
    "    user_prompt += get_all_details(url)\n",
    "    user_prompt = user_prompt[:5_000] # Truncate if more than 5,000 characters\n",
    "    return user_prompt"
   ]
  },
  {
   "cell_type": "code",
   "execution_count": 14,
   "metadata": {},
   "outputs": [],
   "source": [
    "def create_brochure(company_name, url):\n",
    "    response = openai.chat.completions.create(\n",
    "        model=MODEL,\n",
    "        messages=[\n",
    "            {\"role\": \"system\", \"content\": system_prompt},\n",
    "            {\"role\": \"user\", \"content\": get_brochure_user_prompt(company_name, url)}\n",
    "          ],\n",
    "    )\n",
    "    result = response.choices[0].message.content\n",
    "    display(Markdown(result))"
   ]
  },
  {
   "cell_type": "code",
   "execution_count": 16,
   "metadata": {},
   "outputs": [
    {
     "name": "stdout",
     "output_type": "stream",
     "text": [
      "Found links: {'links': [{'type': 'about page', 'url': 'https://edwarddonner.com/about-me-and-about-nebula/'}, {'type': 'Company page', 'url': 'https://edwarddonner.com/'}]}\n"
     ]
    },
    {
     "data": {
      "text/markdown": [
       "**Ed Brochure**\n",
       "===============\n",
       "\n",
       "**About Us**\n",
       "-------------\n",
       "\n",
       "Ed is the brainchild of Ed Donner, a passionate AI enthusiast and entrepreneur. With a long-term goal to help people discover their potential and pursue their reason for being, Ed aims to revolutionize the field of talent acquisition using Generative AI.\n",
       "\n",
       "**Our Mission**\n",
       "----------------\n",
       "\n",
       "At Ed, we believe that everyone deserves to find their dream job. Our patented model matches people with roles with greater accuracy and speed than previously imaginable, without requiring specific keywords. We're on a mission to raise the level of human prosperity by helping people discover their Ikigai (purpose in life).\n",
       "\n",
       "**Our Story**\n",
       "--------------\n",
       "\n",
       "Ed's journey began when Ed founded AI startup untapt in 2013, specializing in tech roles for financial services. After being part of a prestigious accelerator program and being recognized as an American Banker Top 20 Company To Watch, untapt was acquired by GQR's parent company in 2021. Shortly after, Nebula.io was born.\n",
       "\n",
       "**Our Product**\n",
       "----------------\n",
       "\n",
       "Ed's flagship product is the award-winning platform that uses groundbreaking, proprietary LLLMs (Large Language Models) to source, understand, engage and manage talent. Our matching model has been patented and has happy customers and tons of press coverage.\n",
       "\n",
       "**Connect with Us**\n",
       "------------------\n",
       "\n",
       "Stay in touch with Ed through our website, social media channels, or by subscribing to our newsletter. Follow us on LinkedIn, Twitter, Facebook, or send an email to [ed@edwarddonner.com](mailto:ed@edwarddonner.com). Let's connect and discuss how we can revolutionize talent acquisition together!\n",
       "\n",
       "**Join Our Community**\n",
       "----------------------\n",
       "\n",
       "Are you a recruiter looking for innovative solutions? A software engineer interested in AI? Or an entrepreneur seeking mentorship? Connect with us for virtual coffee or real-world collaboration. Let's work together to change the face of talent acquisition.\n",
       "\n",
       "**Stay Inspired**\n",
       "------------------\n",
       "\n",
       "Inspiring stories and industry insights from around the world. Join our community to stay up-to-date on the latest developments and thought leadership in AI, recruitment, and entrepreneurship."
      ],
      "text/plain": [
       "<IPython.core.display.Markdown object>"
      ]
     },
     "metadata": {},
     "output_type": "display_data"
    }
   ],
   "source": [
    "create_brochure(\"Ed\", \"https://edwarddonner.com/\")"
   ]
  },
  {
   "cell_type": "code",
   "execution_count": 17,
   "metadata": {},
   "outputs": [],
   "source": [
    "import gradio as gr"
   ]
  },
  {
   "cell_type": "code",
   "execution_count": 18,
   "metadata": {},
   "outputs": [
    {
     "name": "stdout",
     "output_type": "stream",
     "text": [
      "* Running on local URL:  http://127.0.0.1:7867\n",
      "\n",
      "To create a public link, set `share=True` in `launch()`.\n"
     ]
    },
    {
     "data": {
      "text/html": [
       "<div><iframe src=\"http://127.0.0.1:7867/\" width=\"100%\" height=\"500\" allow=\"autoplay; camera; microphone; clipboard-read; clipboard-write;\" frameborder=\"0\" allowfullscreen></iframe></div>"
      ],
      "text/plain": [
       "<IPython.core.display.HTML object>"
      ]
     },
     "metadata": {},
     "output_type": "display_data"
    },
    {
     "data": {
      "text/plain": []
     },
     "execution_count": 18,
     "metadata": {},
     "output_type": "execute_result"
    },
    {
     "name": "stdout",
     "output_type": "stream",
     "text": [
      "Found links: {'links': [{'type': 'About page', 'url': 'https://edwarddonner.com/about-me-and-about-nebula/'}, {'type': 'Homepage', 'url': 'https://edwarddonner.com/'}]}\n"
     ]
    },
    {
     "data": {
      "text/markdown": [
       "**Eddd Brochure**\n",
       "======================\n",
       "\n",
       "**Who We Are**\n",
       "---------------\n",
       "\n",
       "Meet Eddd, a passionate team of innovators dedicated to helping people discover their potential and pursue their reason for being. Our mission is to empower individuals by applying AI in a way that can make a massive, positive impact.\n",
       "\n",
       "**Our Story**\n",
       "-------------\n",
       "\n",
       "Founded by Ed Donner, our CEO and CTO, who has spent 20 years exploring the field of AI and its real-world applications. Initially, he co-founded an AI startup called untapt in 2013, which specialized in talent marketplaces and data science software for recruitment firms.\n",
       "\n",
       "**Experience**\n",
       "------------\n",
       "\n",
       "* Led a team that built award-winning platforms using proprietary LLMs\n",
       "* Patented matching models for talent sourcing\n",
       "* Partnered with top clients and gained press coverage in prominent industry publications\n",
       "* Joined Nebula.io after untapt's acquisition by GQR in 2021, expanding our focus to source, understand, engage, and manage talent\n",
       "\n",
       "**Our Focus**\n",
       "-------------\n",
       "\n",
       "Nebula.io helps recruiters find the most talented candidates, ensuring they're connected with roles where they'll be inspired and engaged. Our cutting-edge platform uses AI to match people with their optimal fit, without requiring keywords.\n",
       "\n",
       "**Why We Care**\n",
       "----------------\n",
       "\n",
       "We believe in making a difference in people's lives by helping them discover their passions and pursue careers that fulfill them. This approach is driven by our concept of Ikigai, which highlights the importance of finding roles where human vitality and happiness come together.\n",
       "\n",
       "**Our Current Arena: Connect Four**\n",
       "---------------------------------\n",
       "\n",
       "Imagine an arena where LLMs compete against each other in a battle of diplomacy and cunning. At Eddd, we're developing this \"Connect Four\" challenge to push AI boundaries and promote human-technology collaboration.\n",
       "\n",
       "**We'd Love to Connect With You!**\n",
       "------------------------------\n",
       "\n",
       "Visit our website or send us a message through Ed's contact email. Join the conversation on LinkedIn, Twitter, or Facebook to explore how your interests align with Eddd's mission.\n",
       "\n",
       "Stay tuned for updates from our team, resources on AI and LLM engineering, and insights into improving talent sourcing in the digital age."
      ],
      "text/plain": [
       "<IPython.core.display.Markdown object>"
      ]
     },
     "metadata": {},
     "output_type": "display_data"
    }
   ],
   "source": [
    "view = gr.Interface(\n",
    "    fn= create_brochure,\n",
    "    inputs=[\n",
    "        gr.Textbox(label=\"Company Name:\"),\n",
    "        gr.Textbox(label=\"Company Url:\"),\n",
    "        ],\n",
    "    outputs=[gr.Markdown(label=\"Response:\")],\n",
    "    flagging_mode=\"never\"\n",
    ")\n",
    "view.launch()"
   ]
  },
  {
   "cell_type": "code",
   "execution_count": null,
   "metadata": {},
   "outputs": [],
   "source": []
  }
 ],
 "metadata": {
  "kernelspec": {
   "display_name": "llms",
   "language": "python",
   "name": "python3"
  },
  "language_info": {
   "codemirror_mode": {
    "name": "ipython",
    "version": 3
   },
   "file_extension": ".py",
   "mimetype": "text/x-python",
   "name": "python",
   "nbconvert_exporter": "python",
   "pygments_lexer": "ipython3",
   "version": "3.11.12"
  }
 },
 "nbformat": 4,
 "nbformat_minor": 2
}
