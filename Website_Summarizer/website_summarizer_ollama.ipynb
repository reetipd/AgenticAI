{
 "cells": [
  {
   "cell_type": "code",
   "execution_count": 2,
   "metadata": {},
   "outputs": [],
   "source": [
    "# imports\n",
    "\n",
    "import os\n",
    "import requests\n",
    "from dotenv import load_dotenv\n",
    "from bs4 import BeautifulSoup\n",
    "from IPython.display import Markdown, display\n",
    "from openai import OpenAI\n"
   ]
  },
  {
   "cell_type": "code",
   "execution_count": 3,
   "metadata": {},
   "outputs": [
    {
     "name": "stdout",
     "output_type": "stream",
     "text": [
      "\u001b[?2026h\u001b[?25l\u001b[1Gpulling manifest ⠋ \u001b[K\u001b[?25h\u001b[?2026l\u001b[?2026h\u001b[?25l\u001b[1Gpulling manifest ⠙ \u001b[K\u001b[?25h\u001b[?2026l\u001b[?2026h\u001b[?25l\u001b[1Gpulling manifest ⠹ \u001b[K\u001b[?25h\u001b[?2026l\u001b[?2026h\u001b[?25l\u001b[1Gpulling manifest ⠸ \u001b[K\u001b[?25h\u001b[?2026l\u001b[?2026h\u001b[?25l\u001b[1Gpulling manifest ⠼ \u001b[K\u001b[?25h\u001b[?2026l\u001b[?2026h\u001b[?25l\u001b[1Gpulling manifest \u001b[K\n",
      "pulling dde5aa3fc5ff... 100% ▕████████████████▏ 2.0 GB                         \u001b[K\n",
      "pulling 966de95ca8a6... 100% ▕████████████████▏ 1.4 KB                         \u001b[K\n",
      "pulling fcc5a6bec9da... 100% ▕████████████████▏ 7.7 KB                         \u001b[K\n",
      "pulling a70ff7e570d9... 100% ▕████████████████▏ 6.0 KB                         \u001b[K\n",
      "pulling 56bb8bd477a5... 100% ▕████████████████▏   96 B                         \u001b[K\n",
      "pulling 34bb5ab01051... 100% ▕████████████████▏  561 B                         \u001b[K\n",
      "verifying sha256 digest \u001b[K\n",
      "writing manifest \u001b[K\n",
      "success \u001b[K\u001b[?25h\u001b[?2026l\n",
      "2 + 2 = 4.\n"
     ]
    }
   ],
   "source": [
    "!ollama pull llama3.2\n",
    "\n",
    "from openai import OpenAI\n",
    "MODEL = \"llama3.2\"\n",
    "openai = OpenAI(base_url=\"http://localhost:11434/v1\", api_key=\"ollama\")\n",
    "\n",
    "response = openai.chat.completions.create(\n",
    " model=MODEL,\n",
    " messages=[{\"role\": \"user\", \"content\": \"What is 2 + 2?\"}]\n",
    ")\n",
    "\n",
    "print(response.choices[0].message.content)"
   ]
  },
  {
   "cell_type": "code",
   "execution_count": 4,
   "metadata": {},
   "outputs": [],
   "source": [
    "headers = {\n",
    " \"User-Agent\": \"Mozilla/5.0 (Windows NT 10.0; Win64; x64) AppleWebKit/537.36 (KHTML, like Gecko) Chrome/117.0.0.0 Safari/537.36\"\n",
    "}\n",
    "\n",
    "class Website:\n",
    "\n",
    "    def __init__(self, url):\n",
    "        \"\"\"\n",
    "        Create this Website object from the given url using the BeautifulSoup library\n",
    "        \"\"\"\n",
    "        self.url = url\n",
    "        response = requests.get(url, headers=headers)\n",
    "        soup = BeautifulSoup(response.content, 'html.parser')\n",
    "        self.title = soup.title.string if soup.title else \"No title found\"\n",
    "        for irrelevant in soup.body([\"script\", \"style\", \"img\", \"input\"]):\n",
    "            irrelevant.decompose()\n",
    "        self.text = soup.body.get_text(separator=\"\\n\", strip=True)"
   ]
  },
  {
   "cell_type": "code",
   "execution_count": 7,
   "metadata": {},
   "outputs": [
    {
     "name": "stdout",
     "output_type": "stream",
     "text": [
      "\n",
      "Reeti Pradhananga\n",
      "\n",
      "  \n",
      "Reeti Pradhananga\n",
      "About Me\n",
      "Projects\n",
      "Contact\n",
      "Hi, my name is\n",
      "Reeti Pradhananga.\n",
      "I am a software developer.\n",
      "I am currently pursuing my Master’s degree in Computer Science at the University of Louisiana at Lafayette. As a dedicated and innovative software engineer with extensive experience in backend development, I possess a deep understanding of various programming languages, databases, and frameworks. I am eager to leverage my skills and experience to contribute to a dynamic team and tackle new challenges in the software development realm.\n",
      "Resume\n",
      "About Me\n",
      "I am a highly self-motivated and passionate software developer with a passion for web development, currently pursuing my Master’s degree in Computer Science. My journey into the field of software development began through my undergraduate degree in Computer Engineering from Kantipur Engineering College, Nepal.\n",
      "I have made significant contributions to Rara Labs Nepal, where my focus was on developing projects utilizing GraphQL and REST API technologies, all powered by the Go programming language. My role involved creating efficient and robust solutions that enhance the functionality and performance of various software applications.\n",
      "\n",
      "                \n",
      "                Here are a few technologies I've been working with recently:\n",
      "Go\n",
      "JavaScript\n",
      "Python\n",
      "React\n",
      "Node\n",
      "Express\n",
      "PowerShell\n",
      "Projects\n",
      "Tigg\n",
      "Go\n",
      "ReactJS\n",
      "PostgreSQL\n",
      "Utilized Go concurrency techniques to optimize performance and responsiveness in the Tigg Accounting Software project. Integrated an S3 bucket for efficient data storage and management, enhancing system reliability and scalability. Implemented a robust email sending feature to improve communication and user engagement.\n",
      "NFRS\n",
      "Go\n",
      "ReactJS\n",
      "PostgreSQL\n",
      "Developed an exceptional lease reporting tool involving the execution of intricate computations. Meticulously crafted algorithms for the precise determination of present value and the construction of amortisation schedules.\n",
      "RARA Space\n",
      "Go\n",
      "ReactJS\n",
      "PostgreSQL\n",
      "Developed and led the implementation of the dynamic employee management system \"RARA Space,\" resulting in noticeable improvements in workplace efficiency. Proficiently designed modules for tracking employee activities, organising daily tasks, and seamlessly managing leave information. Skillfully integrated email sending functionality to facilitate efficient onboarding processes, showcasing effective communication automation skills.\n",
      "Twitter Sentiment Analysis on Gadget Reviews\n",
      "Python\n",
      "ReactJS\n",
      "PostgreSQL\n",
      "NLTK\n",
      "This web application boasts the ability to delve into the sentiments surrounding specific gadgets, drawing data from Twitter's vast pool of reviews. Employing a Naive Bayes classification algorithm, I meticulously categorized tweets into positive, negative, or neutral sentiments, and the results come to life through intuitive graphical representations.\n",
      "Job Recommendation System\n",
      "Python\n",
      "NLTK\n",
      "HTML\n",
      "CSS\n",
      "JavaScript\n",
      "PostgreSQL\n",
      "A novel approach to job hunting, utilizing a content-based collaborative filtering technique. By synergizing job seekers' preferences and skillsets with the specific requirements sought by recruiters, this application delivers tailored job recommendations that empower individuals in their pursuit of meaningful employment opportunities.\n",
      "Hamro Krishi\n",
      "JavaScript\n",
      "NodeJS\n",
      "HTML\n",
      "CSS\n",
      "MongoDB\n",
      "Hamro Krishi, an innovative e-commerce platform developed to address a critical gap between consumers and sellers within the food supply chain. By leveraging technology and focusing on direct interactions, Hamro Krishi aims to eliminate middlemen, fostering transparent and efficient transactions.\n",
      "Lava Boy and Hydro Girl\n",
      "Vanilla JavaScript\n",
      "HTML\n",
      "CSS\n",
      "Designed and developed an engaging 2-player game titled \"Lava Boy and Hydro Girl\" using HTML, CSS, and vanilla JavaScript. The project encompassed four distinct levels, each requiring collaborative efforts between players to progress.\n",
      "Demo\n",
      "Internship projects\n",
      "Vanilla JavaScript\n",
      "HTML\n",
      "CSS\n",
      "Series of design assignments, demonstrating strong creative skills and meticulous attention to detail. Developed interactive games using JavaScript.\n",
      "Demo\n",
      "Get in Touch\n",
      "Mail me\n"
     ]
    }
   ],
   "source": [
    "ed = Website(\"https://reetipd.github.io/\")\n",
    "print(ed.title)\n",
    "print(ed.text)"
   ]
  },
  {
   "cell_type": "code",
   "execution_count": 8,
   "metadata": {},
   "outputs": [],
   "source": [
    "system_prompt = \"You are an assistant that analyzes the contents of a website \\\n",
    "and provides a short summary, ignoring text that might be navigation related. \\\n",
    "Respond in markdown.\""
   ]
  },
  {
   "cell_type": "code",
   "execution_count": 9,
   "metadata": {},
   "outputs": [],
   "source": [
    "def user_prompt_for(website):\n",
    "    user_prompt = f\"You are looking at a website titled {website.title}\"\n",
    "    user_prompt += \"\\nThe contents of this website is as follows; \\\n",
    "please provide a short summary of this website in markdown. \\\n",
    "If it includes news or announcements, then summarize these too.\\n\\n\"\n",
    "    user_prompt += website.text\n",
    "    return user_prompt"
   ]
  },
  {
   "cell_type": "code",
   "execution_count": 10,
   "metadata": {},
   "outputs": [
    {
     "name": "stdout",
     "output_type": "stream",
     "text": [
      "You are looking at a website titled \n",
      "Reeti Pradhananga\n",
      "\n",
      "  \n",
      "The contents of this website is as follows; please provide a short summary of this website in markdown. If it includes news or announcements, then summarize these too.\n",
      "\n",
      "Reeti Pradhananga\n",
      "About Me\n",
      "Projects\n",
      "Contact\n",
      "Hi, my name is\n",
      "Reeti Pradhananga.\n",
      "I am a software developer.\n",
      "I am currently pursuing my Master’s degree in Computer Science at the University of Louisiana at Lafayette. As a dedicated and innovative software engineer with extensive experience in backend development, I possess a deep understanding of various programming languages, databases, and frameworks. I am eager to leverage my skills and experience to contribute to a dynamic team and tackle new challenges in the software development realm.\n",
      "Resume\n",
      "About Me\n",
      "I am a highly self-motivated and passionate software developer with a passion for web development, currently pursuing my Master’s degree in Computer Science. My journey into the field of software development began through my undergraduate degree in Computer Engineering from Kantipur Engineering College, Nepal.\n",
      "I have made significant contributions to Rara Labs Nepal, where my focus was on developing projects utilizing GraphQL and REST API technologies, all powered by the Go programming language. My role involved creating efficient and robust solutions that enhance the functionality and performance of various software applications.\n",
      "\n",
      "                \n",
      "                Here are a few technologies I've been working with recently:\n",
      "Go\n",
      "JavaScript\n",
      "Python\n",
      "React\n",
      "Node\n",
      "Express\n",
      "PowerShell\n",
      "Projects\n",
      "Tigg\n",
      "Go\n",
      "ReactJS\n",
      "PostgreSQL\n",
      "Utilized Go concurrency techniques to optimize performance and responsiveness in the Tigg Accounting Software project. Integrated an S3 bucket for efficient data storage and management, enhancing system reliability and scalability. Implemented a robust email sending feature to improve communication and user engagement.\n",
      "NFRS\n",
      "Go\n",
      "ReactJS\n",
      "PostgreSQL\n",
      "Developed an exceptional lease reporting tool involving the execution of intricate computations. Meticulously crafted algorithms for the precise determination of present value and the construction of amortisation schedules.\n",
      "RARA Space\n",
      "Go\n",
      "ReactJS\n",
      "PostgreSQL\n",
      "Developed and led the implementation of the dynamic employee management system \"RARA Space,\" resulting in noticeable improvements in workplace efficiency. Proficiently designed modules for tracking employee activities, organising daily tasks, and seamlessly managing leave information. Skillfully integrated email sending functionality to facilitate efficient onboarding processes, showcasing effective communication automation skills.\n",
      "Twitter Sentiment Analysis on Gadget Reviews\n",
      "Python\n",
      "ReactJS\n",
      "PostgreSQL\n",
      "NLTK\n",
      "This web application boasts the ability to delve into the sentiments surrounding specific gadgets, drawing data from Twitter's vast pool of reviews. Employing a Naive Bayes classification algorithm, I meticulously categorized tweets into positive, negative, or neutral sentiments, and the results come to life through intuitive graphical representations.\n",
      "Job Recommendation System\n",
      "Python\n",
      "NLTK\n",
      "HTML\n",
      "CSS\n",
      "JavaScript\n",
      "PostgreSQL\n",
      "A novel approach to job hunting, utilizing a content-based collaborative filtering technique. By synergizing job seekers' preferences and skillsets with the specific requirements sought by recruiters, this application delivers tailored job recommendations that empower individuals in their pursuit of meaningful employment opportunities.\n",
      "Hamro Krishi\n",
      "JavaScript\n",
      "NodeJS\n",
      "HTML\n",
      "CSS\n",
      "MongoDB\n",
      "Hamro Krishi, an innovative e-commerce platform developed to address a critical gap between consumers and sellers within the food supply chain. By leveraging technology and focusing on direct interactions, Hamro Krishi aims to eliminate middlemen, fostering transparent and efficient transactions.\n",
      "Lava Boy and Hydro Girl\n",
      "Vanilla JavaScript\n",
      "HTML\n",
      "CSS\n",
      "Designed and developed an engaging 2-player game titled \"Lava Boy and Hydro Girl\" using HTML, CSS, and vanilla JavaScript. The project encompassed four distinct levels, each requiring collaborative efforts between players to progress.\n",
      "Demo\n",
      "Internship projects\n",
      "Vanilla JavaScript\n",
      "HTML\n",
      "CSS\n",
      "Series of design assignments, demonstrating strong creative skills and meticulous attention to detail. Developed interactive games using JavaScript.\n",
      "Demo\n",
      "Get in Touch\n",
      "Mail me\n"
     ]
    }
   ],
   "source": [
    "print(user_prompt_for(ed))"
   ]
  },
  {
   "cell_type": "code",
   "execution_count": 13,
   "metadata": {},
   "outputs": [],
   "source": [
    "def messages_for(website):\n",
    "    return [\n",
    "        {\"role\": \"system\", \"content\": system_prompt},\n",
    "        {\"role\": \"user\", \"content\": user_prompt_for(website)}\n",
    "    ]"
   ]
  },
  {
   "cell_type": "code",
   "execution_count": 14,
   "metadata": {},
   "outputs": [
    {
     "data": {
      "text/plain": [
       "[{'role': 'system',\n",
       "  'content': 'You are an assistant that analyzes the contents of a website and provides a short summary, ignoring text that might be navigation related. Respond in markdown.'},\n",
       " {'role': 'user',\n",
       "  'content': 'You are looking at a website titled \\nReeti Pradhananga\\n\\n  \\nThe contents of this website is as follows; please provide a short summary of this website in markdown. If it includes news or announcements, then summarize these too.\\n\\nReeti Pradhananga\\nAbout Me\\nProjects\\nContact\\nHi, my name is\\nReeti Pradhananga.\\nI am a software developer.\\nI am currently pursuing my Master’s degree in Computer Science at the University of Louisiana at Lafayette. As a dedicated and innovative software engineer with extensive experience in backend development, I possess a deep understanding of various programming languages, databases, and frameworks. I am eager to leverage my skills and experience to contribute to a dynamic team and tackle new challenges in the software development realm.\\nResume\\nAbout Me\\nI am a highly self-motivated and passionate software developer with a passion for web development, currently pursuing my Master’s degree in Computer Science. My journey into the field of software development began through my undergraduate degree in Computer Engineering from Kantipur Engineering College, Nepal.\\nI have made significant contributions to Rara Labs Nepal, where my focus was on developing projects utilizing GraphQL and REST API technologies, all powered by the Go programming language. My role involved creating efficient and robust solutions that enhance the functionality and performance of various software applications.\\n\\n                \\n                Here are a few technologies I\\'ve been working with recently:\\nGo\\nJavaScript\\nPython\\nReact\\nNode\\nExpress\\nPowerShell\\nProjects\\nTigg\\nGo\\nReactJS\\nPostgreSQL\\nUtilized Go concurrency techniques to optimize performance and responsiveness in the Tigg Accounting Software project. Integrated an S3 bucket for efficient data storage and management, enhancing system reliability and scalability. Implemented a robust email sending feature to improve communication and user engagement.\\nNFRS\\nGo\\nReactJS\\nPostgreSQL\\nDeveloped an exceptional lease reporting tool involving the execution of intricate computations. Meticulously crafted algorithms for the precise determination of present value and the construction of amortisation schedules.\\nRARA Space\\nGo\\nReactJS\\nPostgreSQL\\nDeveloped and led the implementation of the dynamic employee management system \"RARA Space,\" resulting in noticeable improvements in workplace efficiency. Proficiently designed modules for tracking employee activities, organising daily tasks, and seamlessly managing leave information. Skillfully integrated email sending functionality to facilitate efficient onboarding processes, showcasing effective communication automation skills.\\nTwitter Sentiment Analysis on Gadget Reviews\\nPython\\nReactJS\\nPostgreSQL\\nNLTK\\nThis web application boasts the ability to delve into the sentiments surrounding specific gadgets, drawing data from Twitter\\'s vast pool of reviews. Employing a Naive Bayes classification algorithm, I meticulously categorized tweets into positive, negative, or neutral sentiments, and the results come to life through intuitive graphical representations.\\nJob Recommendation System\\nPython\\nNLTK\\nHTML\\nCSS\\nJavaScript\\nPostgreSQL\\nA novel approach to job hunting, utilizing a content-based collaborative filtering technique. By synergizing job seekers\\' preferences and skillsets with the specific requirements sought by recruiters, this application delivers tailored job recommendations that empower individuals in their pursuit of meaningful employment opportunities.\\nHamro Krishi\\nJavaScript\\nNodeJS\\nHTML\\nCSS\\nMongoDB\\nHamro Krishi, an innovative e-commerce platform developed to address a critical gap between consumers and sellers within the food supply chain. By leveraging technology and focusing on direct interactions, Hamro Krishi aims to eliminate middlemen, fostering transparent and efficient transactions.\\nLava Boy and Hydro Girl\\nVanilla JavaScript\\nHTML\\nCSS\\nDesigned and developed an engaging 2-player game titled \"Lava Boy and Hydro Girl\" using HTML, CSS, and vanilla JavaScript. The project encompassed four distinct levels, each requiring collaborative efforts between players to progress.\\nDemo\\nInternship projects\\nVanilla JavaScript\\nHTML\\nCSS\\nSeries of design assignments, demonstrating strong creative skills and meticulous attention to detail. Developed interactive games using JavaScript.\\nDemo\\nGet in Touch\\nMail me'}]"
      ]
     },
     "execution_count": 14,
     "metadata": {},
     "output_type": "execute_result"
    }
   ],
   "source": [
    "messages_for(ed)"
   ]
  },
  {
   "cell_type": "code",
   "execution_count": 15,
   "metadata": {},
   "outputs": [],
   "source": [
    "def summarize(url):\n",
    "    website = Website(url)\n",
    "    response = openai.chat.completions.create(\n",
    "        model = MODEL,\n",
    "        messages = messages_for(website)\n",
    "    )\n",
    "    return response.choices[0].message.content"
   ]
  },
  {
   "cell_type": "code",
   "execution_count": 18,
   "metadata": {},
   "outputs": [
    {
     "data": {
      "text/plain": [
       "\"**Summary of Reeti Pradhananga's Website**\\n=============================================\\n\\nReeti Pradhananga is a software developer specializing in backend development with expertise in various programming languages, databases, and frameworks.\\n\\n### About Her\\n\\nReeti is a self-motivated and passionate developer pursuing her Master's degree in Computer Science at the University of Louisiana at Lafayette.\\n\\n### Projects\\n-------------\\n\\nHere are some notable projects:\\n\\n*   **Tigg**: A project utilizing Go concurrency techniques to optimize performance and responsiveness.\\n*   **NFRS**: An exceptional lease reporting tool developed using ReactJS, PostgreSQL, and Go.\\n*   **RARA Space**: A dynamic employee management system with noticeable improvements in efficiency.\\n*   **Twitter Sentiment Analysis on Gadget Reviews**: A web application categorizing tweets into positive, negative, or neutral sentiments.\\n*   **Job Recommendation System**: A novel approach to job hunting using content-based collaborative filtering technique.\\n\\n### Technologies Used\\n----------------------\\n\\nReeti's recent projects utilized the following technologies:\\n\\n*   Go\\n*   JavaScript\\n*   Python\\n*   ReactJS\\n*   Node\\n*   Express\\n*   Power\\n*   PostgreSQL\\n*   MongoDB\\n\\n(Note: Although PowerShell is mentioned in Reeti's tech stack, it does not appear to be used in any specific projects)\""
      ]
     },
     "execution_count": 18,
     "metadata": {},
     "output_type": "execute_result"
    }
   ],
   "source": [
    "summarize(\"https://reetipd.github.io/\")"
   ]
  },
  {
   "cell_type": "code",
   "execution_count": 20,
   "metadata": {},
   "outputs": [],
   "source": [
    "def display_summary(url):\n",
    "    summary = summarize(url)\n",
    "    display(Markdown(summary))"
   ]
  },
  {
   "cell_type": "code",
   "execution_count": 21,
   "metadata": {},
   "outputs": [
    {
     "data": {
      "text/markdown": [
       "**Summary**\n",
       "\n",
       "Reeti Pradhananga is a software developer pursuing his Master's degree in Computer Science. He has experience in backend development and contributes to various projects.\n",
       "\n",
       "### Key Projects\n",
       "\n",
       "#### Tigg\n",
       "\n",
       "* Utilized Go concurrency techniques for optimization\n",
       "* Integrated an S3 bucket for efficient data storage\n",
       "* Implemented a robust email sending feature\n",
       "\n",
       "#### NFRS\n",
       "\n",
       "* Developed an exceptional lease reporting tool using intricate computations\n",
       "* Crafted algorithms for determining present value and amortisation schedules\n",
       "\n",
       "#### RARA Space\n",
       "\n",
       "* Developed and led the implementation of an employee management system\n",
       "* Proficiently designed modules for tracking employee activities and managing leave information\n",
       "\n",
       "#### Twitter Sentiment Analysis on Gadget Reviews\n",
       "\n",
       "* Employed a Naive Bayes classification algorithm to categorize tweets\n",
       "\n",
       "### Job Recommendation System\n",
       "\n",
       "* Utilized a content-based collaborative filtering technique\n",
       "\n",
       "### Hamro Krishi\n",
       "\n",
       "* Developed an e-commerce platform to address the food supply chain gap\n",
       "* Leveraged technology for direct interactions and efficient transactions\n",
       "\n",
       "### Lava Boy and Hydro Girl\n",
       "\n",
       "* Designed and developed a 2-player game using HTML, CSS, and vanilla JavaScript"
      ],
      "text/plain": [
       "<IPython.core.display.Markdown object>"
      ]
     },
     "metadata": {},
     "output_type": "display_data"
    }
   ],
   "source": [
    "display_summary(\"https://reetipd.github.io/\")"
   ]
  },
  {
   "cell_type": "code",
   "execution_count": null,
   "metadata": {},
   "outputs": [],
   "source": []
  }
 ],
 "metadata": {
  "kernelspec": {
   "display_name": "llms",
   "language": "python",
   "name": "python3"
  },
  "language_info": {
   "codemirror_mode": {
    "name": "ipython",
    "version": 3
   },
   "file_extension": ".py",
   "mimetype": "text/x-python",
   "name": "python",
   "nbconvert_exporter": "python",
   "pygments_lexer": "ipython3",
   "version": "3.11.12"
  }
 },
 "nbformat": 4,
 "nbformat_minor": 2
}
