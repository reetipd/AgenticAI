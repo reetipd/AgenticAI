{
 "cells": [
  {
   "cell_type": "markdown",
   "id": "fe12c203-e6a6-452c-a655-afb8a03a4ff5",
   "metadata": {},
   "source": [
    "# End of week 1 exercise\n",
    "\n",
    "To demonstrate your familiarity with OpenAI API, and also Ollama, build a tool that takes a technical question,  \n",
    "and responds with an explanation. This is a tool that you will be able to use yourself during the course!"
   ]
  },
  {
   "cell_type": "code",
   "execution_count": 1,
   "id": "c1070317-3ed9-4659-abe3-828943230e03",
   "metadata": {},
   "outputs": [],
   "source": [
    "# imports\n",
    "import os\n",
    "import requests\n",
    "import json\n",
    "from typing import List\n",
    "from dotenv import load_dotenv\n",
    "from bs4 import BeautifulSoup\n",
    "from IPython.display import Markdown, display, update_display\n",
    "from openai import OpenAI"
   ]
  },
  {
   "cell_type": "code",
   "execution_count": 2,
   "id": "4a456906-915a-4bfd-bb9d-57e505c5093f",
   "metadata": {},
   "outputs": [],
   "source": [
    "# constants\n",
    "\n",
    "MODEL_GPT = 'gpt-4o-mini'\n",
    "MODEL_LLAMA = 'llama3.2'"
   ]
  },
  {
   "cell_type": "code",
   "execution_count": 3,
   "id": "087d51ba",
   "metadata": {},
   "outputs": [
    {
     "name": "stdout",
     "output_type": "stream",
     "text": [
      "\u001b[?2026h\u001b[?25l\u001b[1Gpulling manifest ⠋ \u001b[K\u001b[?25h\u001b[?2026l\u001b[?2026h\u001b[?25l\u001b[1Gpulling manifest ⠙ \u001b[K\u001b[?25h\u001b[?2026l\u001b[?2026h\u001b[?25l\u001b[1Gpulling manifest ⠹ \u001b[K\u001b[?25h\u001b[?2026l\u001b[?2026h\u001b[?25l\u001b[1Gpulling manifest \u001b[K\n",
      "pulling dde5aa3fc5ff... 100% ▕████████████████▏ 2.0 GB                         \u001b[K\n",
      "pulling 966de95ca8a6... 100% ▕████████████████▏ 1.4 KB                         \u001b[K\n",
      "pulling fcc5a6bec9da... 100% ▕████████████████▏ 7.7 KB                         \u001b[K\n",
      "pulling a70ff7e570d9... 100% ▕████████████████▏ 6.0 KB                         \u001b[K\n",
      "pulling 56bb8bd477a5... 100% ▕████████████████▏   96 B                         \u001b[K\n",
      "pulling 34bb5ab01051... 100% ▕████████████████▏  561 B                         \u001b[K\n",
      "verifying sha256 digest \u001b[K\n",
      "writing manifest \u001b[K\n",
      "success \u001b[K\u001b[?25h\u001b[?2026l\n"
     ]
    }
   ],
   "source": [
    "!ollama pull llama3.2\n",
    "\n",
    "from openai import OpenAI\n",
    "openai = OpenAI(base_url=\"http://localhost:11434/v1\", api_key=\"ollama\")"
   ]
  },
  {
   "cell_type": "code",
   "execution_count": 6,
   "id": "3f0d0137-52b0-47a8-81a8-11a90a010798",
   "metadata": {},
   "outputs": [],
   "source": [
    "question = \"\"\"\n",
    "Please explain what this code does and why:\n",
    "yield from {book.get(\"author\") for book in books if book.get(\"author\")}\n",
    "\"\"\""
   ]
  },
  {
   "cell_type": "code",
   "execution_count": 7,
   "id": "368160f6",
   "metadata": {},
   "outputs": [],
   "source": [
    "system_prompt = \"You are a technical assistant and very good at coding. \\\n",
    "    You are able to explain, debug as well as generate new code. \\\n",
    "    You are provided with a code and you need to explain what it does in a simple manner. \\\n",
    "    Your audience is a non-technical person. \\\n",
    "    Make sure you put references whenever used.\"\n",
    "system_prompt += \"You should response in a markdown format.\"\n",
    "\n",
    "user_prompt = f\"I am struggling with this question. Please help me out with this question: {question}\""
   ]
  },
  {
   "cell_type": "code",
   "execution_count": 8,
   "id": "b3624c89",
   "metadata": {},
   "outputs": [],
   "source": [
    "messages = [\n",
    "    {\"role\": \"system\", \"content\": system_prompt},\n",
    "    {\"role\": \"user\", \"content\": user_prompt}\n",
    "]"
   ]
  },
  {
   "cell_type": "code",
   "execution_count": 9,
   "id": "c23cdd07",
   "metadata": {},
   "outputs": [
    {
     "name": "stdout",
     "output_type": "stream",
     "text": [
      "[{'role': 'system', 'content': 'You are a technical assistant and very good at coding.     You are able to explain, debug as well as generate new code.     You are provided with a code and you need to explain what it does in a simple manner.     Your audience is a non-technical person.     Make sure you put references whenever used.You should response in a markdown format.'}, {'role': 'user', 'content': 'I am struggling with this question. Please help me out with this question: \\nPlease explain what this code does and why:\\nyield from {book.get(\"author\") for book in books if book.get(\"author\")}\\n'}]\n"
     ]
    }
   ],
   "source": [
    "print(messages)"
   ]
  },
  {
   "cell_type": "code",
   "execution_count": 11,
   "id": "04a5e080",
   "metadata": {},
   "outputs": [
    {
     "data": {
      "text/markdown": [
       "**Code Explanation**\n",
       "--------------------\n",
       "\n",
       "This line of code appears to be a part of a Python generator expression, which is used to iterate over a sequence and produce a new iterable sequence.\n",
       "\n",
       "Let's break it down:\n",
       "\n",
       "*   `yield from`: This keyword is used to delegate the execution to another iterator. The \"from\" keyword indicates that we're yielding values from another source.\n",
       "*   `{book.get(\"author\") for book in books if book.get(\"author\"}}:`\n",
       "\n",
       "    -   **`for book in books`**: This part of the expression iterates over an iterable sequence of books (e.g., a list or dictionary).\n",
       "    -   `if book.get(\"author\")`: The `get()` method returns a value (`None` by default) for the key `\"author\"` if it exists in the book. If not, it is skipped.\n",
       "    -   `{book.get(\"author\")}`: For each book that passes the condition, this expression retrieves and yields the author's name from the dictionary.\n",
       "\n",
       "**How does it work?**\n",
       "----------------------\n",
       "\n",
       "Here's a simple example of how it works:\n",
       "\n",
       "python\n",
       "import json\n",
       "\n",
       "# Sample data in JSON format\n",
       "books = [\n",
       "    {\"title\": \"Book1\", \"author\": \"AuthorA\"},\n",
       "    {\"title\": \"Book2\", \"\", \"author\": \"AuthorB\"},\n",
       "    {\"title\": \"Book3\"},  # empty author field, skipped\n",
       "]\n",
       "\n",
       "for book in [book.get(\"author\") for book in books if book.get(\"author\")]:\n",
       "    print(book)\n",
       "\n",
       "\n",
       "**Output:**\n",
       "\n",
       "AuthorA\n",
       "AuthorB\n",
       "\n",
       "\n",
       "As you can see, only the values from `books` that contain an `\"author\"` key are processed.\n",
       "\n",
       "**Why is it used?**\n",
       "--------------------\n",
       "\n",
       "This line of code is often used in scenarios where you want to filter or transform data based on certain conditions. In this case, it's filtering out books without authors before yielding their authors.\n",
       "\n",
       "In practice, this can be useful when working with large datasets, as it avoids unnecessary computations and memory usage.\n",
       "\n",
       "**References:**\n",
       "\n",
       "*   **[Yield from](https://docs.python.org/3/reference/simple_stmts.html#the-yield-statement)**: The official Python documentation on the `yield from` statement.\n",
       "*   **[Generators](https://docs.python.org/3/glossary.html#term-generator)**: A concise overview of generators in Python, including generator expressions."
      ],
      "text/plain": [
       "<IPython.core.display.Markdown object>"
      ]
     },
     "metadata": {},
     "output_type": "display_data"
    }
   ],
   "source": [
    "stream = openai.chat.completions.create(model=MODEL_LLAMA, messages=messages,stream=True)\n",
    "    \n",
    "response = \"\"\n",
    "display_handle = display(Markdown(\"\"), display_id=True)\n",
    "for chunk in stream:\n",
    "    response += chunk.choices[0].delta.content or ''\n",
    "    response = response.replace(\"```\",\"\").replace(\"markdown\", \"\")\n",
    "    update_display(Markdown(response), display_id=display_handle.display_id)"
   ]
  }
 ],
 "metadata": {
  "kernelspec": {
   "display_name": "Python 3 (ipykernel)",
   "language": "python",
   "name": "python3"
  },
  "language_info": {
   "codemirror_mode": {
    "name": "ipython",
    "version": 3
   },
   "file_extension": ".py",
   "mimetype": "text/x-python",
   "name": "python",
   "nbconvert_exporter": "python",
   "pygments_lexer": "ipython3",
   "version": "3.11.12"
  }
 },
 "nbformat": 4,
 "nbformat_minor": 5
}
